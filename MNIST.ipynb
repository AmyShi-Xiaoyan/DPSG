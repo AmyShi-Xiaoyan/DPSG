{
 "cells": [
  {
   "cell_type": "code",
   "execution_count": 1,
   "metadata": {},
   "outputs": [
    {
     "name": "stderr",
     "output_type": "stream",
     "text": [
      "Using TensorFlow backend.\n"
     ]
    }
   ],
   "source": [
    "import numpy as np\n",
    "from keras.models import Sequential\n",
    "from keras.layers import Dense, Dropout, Activation, Flatten\n",
    "from keras.utils import np_utils\n",
    "from keras.datasets import mnist"
   ]
  },
  {
   "cell_type": "code",
   "execution_count": 2,
   "metadata": {},
   "outputs": [],
   "source": [
    "import matplotlib.pyplot as plt\n",
    "%matplotlib inline"
   ]
  },
  {
   "cell_type": "markdown",
   "metadata": {},
   "source": [
    "# input dataset"
   ]
  },
  {
   "cell_type": "code",
   "execution_count": 3,
   "metadata": {},
   "outputs": [
    {
     "name": "stdout",
     "output_type": "stream",
     "text": [
      "Downloading data from https://s3.amazonaws.com/img-datasets/mnist.npz\n",
      "11493376/11490434 [==============================] - 1s 0us/step\n"
     ]
    }
   ],
   "source": [
    "(X_train, y_train), (X_test, y_test) =mnist.load_data()"
   ]
  },
  {
   "cell_type": "markdown",
   "metadata": {},
   "source": [
    "# Plot one sample of dataset"
   ]
  },
  {
   "cell_type": "code",
   "execution_count": 4,
   "metadata": {},
   "outputs": [
    {
     "data": {
      "text/plain": [
       "<matplotlib.image.AxesImage at 0x2ed2e8b5208>"
      ]
     },
     "execution_count": 4,
     "metadata": {},
     "output_type": "execute_result"
    },
    {
     "data": {
      "image/png": "[encoded data removed]",
      "text/plain": [
       "<Figure size 432x288 with 1 Axes>"
      ]
     },
     "metadata": {
      "needs_background": "light"
     },
     "output_type": "display_data"
    }
   ],
   "source": [
    "plt.imshow(X_train[0])"
   ]
  },
  {
   "cell_type": "markdown",
   "metadata": {},
   "source": [
    "# Preprocessing the dataset"
   ]
  },
  {
   "cell_type": "code",
   "execution_count": 6,
   "metadata": {},
   "outputs": [
    {
     "data": {
      "text/plain": [
       "array([[0., 0., 0., ..., 0., 0., 0.],\n",
       "       [0., 0., 0., ..., 0., 0., 0.],\n",
       "       [0., 0., 0., ..., 0., 0., 0.],\n",
       "       ...,\n",
       "       [0., 0., 0., ..., 0., 0., 0.],\n",
       "       [0., 0., 0., ..., 0., 0., 0.],\n",
       "       [0., 0., 0., ..., 0., 0., 0.]], dtype=float32)"
      ]
     },
     "execution_count": 6,
     "metadata": {},
     "output_type": "execute_result"
    }
   ],
   "source": [
    "X_train=X_train.reshape(X_train.shape[0],784)\n",
    "X_test=X_test.reshape(X_test.shape[0],784)\n",
    "X_train=X_train.astype('float32')\n",
    "X_test=X_test.astype('float32')\n",
    "X_train/=255\n",
    "X_test/=255\n",
    "X_train"
   ]
  },
  {
   "cell_type": "code",
   "execution_count": 7,
   "metadata": {},
   "outputs": [],
   "source": [
    "y_train=np_utils.to_categorical(y_train,10)\n",
    "y_test=np_utils.to_categorical(y_test,10)"
   ]
  },
  {
   "cell_type": "markdown",
   "metadata": {},
   "source": [
    "# Setting up the model (DNN with 4 layers)"
   ]
  },
  {
   "cell_type": "code",
   "execution_count": 8,
   "metadata": {},
   "outputs": [
    {
     "name": "stderr",
     "output_type": "stream",
     "text": [
      "WARNING: Logging before flag parsing goes to stderr.\n",
      "W0919 14:03:18.900462  6184 deprecation_wrapper.py:119] From C:\\Users\\amyshi\\AppData\\Local\\Continuum\\anaconda3\\lib\\site-packages\\keras\\backend\\tensorflow_backend.py:74: The name tf.get_default_graph is deprecated. Please use tf.compat.v1.get_default_graph instead.\n",
      "\n",
      "W0919 14:03:18.939853  6184 deprecation_wrapper.py:119] From C:\\Users\\amyshi\\AppData\\Local\\Continuum\\anaconda3\\lib\\site-packages\\keras\\backend\\tensorflow_backend.py:517: The name tf.placeholder is deprecated. Please use tf.compat.v1.placeholder instead.\n",
      "\n",
      "W0919 14:03:18.965121  6184 deprecation_wrapper.py:119] From C:\\Users\\amyshi\\AppData\\Local\\Continuum\\anaconda3\\lib\\site-packages\\keras\\backend\\tensorflow_backend.py:4138: The name tf.random_uniform is deprecated. Please use tf.random.uniform instead.\n",
      "\n",
      "W0919 14:03:18.978490  6184 deprecation_wrapper.py:119] From C:\\Users\\amyshi\\AppData\\Local\\Continuum\\anaconda3\\lib\\site-packages\\keras\\backend\\tensorflow_backend.py:133: The name tf.placeholder_with_default is deprecated. Please use tf.compat.v1.placeholder_with_default instead.\n",
      "\n",
      "W0919 14:03:18.991119  6184 deprecation.py:506] From C:\\Users\\amyshi\\AppData\\Local\\Continuum\\anaconda3\\lib\\site-packages\\keras\\backend\\tensorflow_backend.py:3445: calling dropout (from tensorflow.python.ops.nn_ops) with keep_prob is deprecated and will be removed in a future version.\n",
      "Instructions for updating:\n",
      "Please use `rate` instead of `keep_prob`. Rate should be set to `rate = 1 - keep_prob`.\n"
     ]
    }
   ],
   "source": [
    "model=Sequential()\n",
    "model.add(Dense(256, activation='relu', input_shape=(784, )))\n",
    "model.add(Dropout(0.4))\n",
    "model.add(Dense(128,activation='relu'))\n",
    "model.add(Dropout(0.3))\n",
    "model.add(Dense(64,activation='relu'))\n",
    "model.add(Dropout(0.3))\n",
    "model.add(Dense(10,activation='softmax'))"
   ]
  },
  {
   "cell_type": "markdown",
   "metadata": {},
   "source": [
    "# Model summary"
   ]
  },
  {
   "cell_type": "code",
   "execution_count": 9,
   "metadata": {},
   "outputs": [
    {
     "name": "stdout",
     "output_type": "stream",
     "text": [
      "_________________________________________________________________\n",
      "Layer (type)                 Output Shape              Param #   \n",
      "=================================================================\n",
      "dense_1 (Dense)              (None, 256)               200960    \n",
      "_________________________________________________________________\n",
      "dropout_1 (Dropout)          (None, 256)               0         \n",
      "_________________________________________________________________\n",
      "dense_2 (Dense)              (None, 128)               32896     \n",
      "_________________________________________________________________\n",
      "dropout_2 (Dropout)          (None, 128)               0         \n",
      "_________________________________________________________________\n",
      "dense_3 (Dense)              (None, 64)                8256      \n",
      "_________________________________________________________________\n",
      "dropout_3 (Dropout)          (None, 64)                0         \n",
      "_________________________________________________________________\n",
      "dense_4 (Dense)              (None, 10)                650       \n",
      "=================================================================\n",
      "Total params: 242,762\n",
      "Trainable params: 242,762\n",
      "Non-trainable params: 0\n",
      "_________________________________________________________________\n"
     ]
    }
   ],
   "source": [
    "model.summary()"
   ]
  },
  {
   "cell_type": "markdown",
   "metadata": {},
   "source": [
    "# Compile the model by specifying the loss function and optimizer"
   ]
  },
  {
   "cell_type": "code",
   "execution_count": 10,
   "metadata": {},
   "outputs": [
    {
     "name": "stderr",
     "output_type": "stream",
     "text": [
      "W0919 14:03:51.170679  6184 deprecation_wrapper.py:119] From C:\\Users\\amyshi\\AppData\\Local\\Continuum\\anaconda3\\lib\\site-packages\\keras\\optimizers.py:790: The name tf.train.Optimizer is deprecated. Please use tf.compat.v1.train.Optimizer instead.\n",
      "\n",
      "W0919 14:03:51.186308  6184 deprecation_wrapper.py:119] From C:\\Users\\amyshi\\AppData\\Local\\Continuum\\anaconda3\\lib\\site-packages\\keras\\backend\\tensorflow_backend.py:3295: The name tf.log is deprecated. Please use tf.math.log instead.\n",
      "\n"
     ]
    }
   ],
   "source": [
    "model.compile(loss='categorical_crossentropy', \n",
    "              metrics=['accuracy'], \n",
    "              optimizer='adam') "
   ]
  },
  {
   "cell_type": "markdown",
   "metadata": {},
   "source": [
    "# Fit the model"
   ]
  },
  {
   "cell_type": "code",
   "execution_count": 11,
   "metadata": {},
   "outputs": [
    {
     "name": "stderr",
     "output_type": "stream",
     "text": [
      "W0919 14:04:05.659095  6184 deprecation.py:323] From C:\\Users\\amyshi\\AppData\\Local\\Continuum\\anaconda3\\lib\\site-packages\\tensorflow\\python\\ops\\math_grad.py:1250: add_dispatch_support.<locals>.wrapper (from tensorflow.python.ops.array_ops) is deprecated and will be removed in a future version.\n",
      "Instructions for updating:\n",
      "Use tf.where in 2.0, which has the same broadcast rule as np.where\n"
     ]
    },
    {
     "name": "stdout",
     "output_type": "stream",
     "text": [
      "Train on 48000 samples, validate on 12000 samples\n",
      "Epoch 1/30\n",
      "48000/48000 [==============================] - 3s 66us/step - loss: 1.3850 - acc: 0.4976 - val_loss: 0.6739 - val_acc: 0.7862\n",
      "Epoch 2/30\n",
      "48000/48000 [==============================] - 2s 51us/step - loss: 0.6673 - acc: 0.7844 - val_loss: 0.3870 - val_acc: 0.8902\n",
      "Epoch 3/30\n",
      "48000/48000 [==============================] - 2s 51us/step - loss: 0.4825 - acc: 0.8542 - val_loss: 0.3022 - val_acc: 0.9108\n",
      "Epoch 4/30\n",
      "48000/48000 [==============================] - 2s 51us/step - loss: 0.4010 - acc: 0.8835 - val_loss: 0.2618 - val_acc: 0.9220\n",
      "Epoch 5/30\n",
      "48000/48000 [==============================] - 2s 50us/step - loss: 0.3512 - acc: 0.8985 - val_loss: 0.2248 - val_acc: 0.9334\n",
      "Epoch 6/30\n",
      "48000/48000 [==============================] - 3s 65us/step - loss: 0.3098 - acc: 0.9111 - val_loss: 0.1987 - val_acc: 0.9392\n",
      "Epoch 7/30\n",
      "48000/48000 [==============================] - 3s 53us/step - loss: 0.2790 - acc: 0.9203 - val_loss: 0.1850 - val_acc: 0.9457\n",
      "Epoch 8/30\n",
      "48000/48000 [==============================] - 3s 53us/step - loss: 0.2584 - acc: 0.9260 - val_loss: 0.1729 - val_acc: 0.9495\n",
      "Epoch 9/30\n",
      "48000/48000 [==============================] - 2s 51us/step - loss: 0.2372 - acc: 0.9316 - val_loss: 0.1559 - val_acc: 0.9552\n",
      "Epoch 10/30\n",
      "48000/48000 [==============================] - 3s 52us/step - loss: 0.2177 - acc: 0.9388 - val_loss: 0.1467 - val_acc: 0.9561\n",
      "Epoch 11/30\n",
      "48000/48000 [==============================] - 3s 52us/step - loss: 0.2061 - acc: 0.9414 - val_loss: 0.1423 - val_acc: 0.9586\n",
      "Epoch 12/30\n",
      "48000/48000 [==============================] - 3s 61us/step - loss: 0.1968 - acc: 0.9430 - val_loss: 0.1372 - val_acc: 0.9590\n",
      "Epoch 13/30\n",
      "48000/48000 [==============================] - 3s 55us/step - loss: 0.1864 - acc: 0.9465 - val_loss: 0.1282 - val_acc: 0.9620\n",
      "Epoch 14/30\n",
      "48000/48000 [==============================] - 2s 52us/step - loss: 0.1758 - acc: 0.9504 - val_loss: 0.1264 - val_acc: 0.9633\n",
      "Epoch 15/30\n",
      "48000/48000 [==============================] - 2s 51us/step - loss: 0.1685 - acc: 0.9521 - val_loss: 0.1219 - val_acc: 0.9640\n",
      "Epoch 16/30\n",
      "48000/48000 [==============================] - 2s 52us/step - loss: 0.1678 - acc: 0.9511 - val_loss: 0.1157 - val_acc: 0.9665\n",
      "Epoch 17/30\n",
      "48000/48000 [==============================] - 3s 54us/step - loss: 0.1551 - acc: 0.9549 - val_loss: 0.1195 - val_acc: 0.9660\n",
      "Epoch 18/30\n",
      "48000/48000 [==============================] - 2s 52us/step - loss: 0.1533 - acc: 0.9563 - val_loss: 0.1124 - val_acc: 0.9681\n",
      "Epoch 19/30\n",
      "48000/48000 [==============================] - 3s 63us/step - loss: 0.1478 - acc: 0.9577 - val_loss: 0.1090 - val_acc: 0.9685\n",
      "Epoch 20/30\n",
      "48000/48000 [==============================] - 3s 57us/step - loss: 0.1408 - acc: 0.9593 - val_loss: 0.1116 - val_acc: 0.9683\n",
      "Epoch 21/30\n",
      "48000/48000 [==============================] - 3s 68us/step - loss: 0.1366 - acc: 0.9610 - val_loss: 0.1087 - val_acc: 0.9678\n",
      "Epoch 22/30\n",
      "48000/48000 [==============================] - 3s 55us/step - loss: 0.1354 - acc: 0.9607 - val_loss: 0.1093 - val_acc: 0.9661\n",
      "Epoch 23/30\n",
      "48000/48000 [==============================] - 3s 54us/step - loss: 0.1346 - acc: 0.9614 - val_loss: 0.1041 - val_acc: 0.9712\n",
      "Epoch 24/30\n",
      "48000/48000 [==============================] - 3s 66us/step - loss: 0.1293 - acc: 0.9631 - val_loss: 0.1042 - val_acc: 0.9702\n",
      "Epoch 25/30\n",
      "48000/48000 [==============================] - 3s 53us/step - loss: 0.1246 - acc: 0.9643 - val_loss: 0.1052 - val_acc: 0.9695\n",
      "Epoch 26/30\n",
      "48000/48000 [==============================] - 3s 53us/step - loss: 0.1216 - acc: 0.9646 - val_loss: 0.1016 - val_acc: 0.9718\n",
      "Epoch 27/30\n",
      "48000/48000 [==============================] - 3s 56us/step - loss: 0.1163 - acc: 0.9662 - val_loss: 0.1013 - val_acc: 0.9704\n",
      "Epoch 28/30\n",
      "48000/48000 [==============================] - 3s 55us/step - loss: 0.1176 - acc: 0.9657 - val_loss: 0.0997 - val_acc: 0.9716\n",
      "Epoch 29/30\n",
      "48000/48000 [==============================] - 3s 54us/step - loss: 0.1140 - acc: 0.9664 - val_loss: 0.0943 - val_acc: 0.9724\n",
      "Epoch 30/30\n",
      "48000/48000 [==============================] - 4s 83us/step - loss: 0.1103 - acc: 0.9674 - val_loss: 0.0955 - val_acc: 0.9743\n"
     ]
    },
    {
     "data": {
      "text/plain": [
       "<keras.callbacks.History at 0x2ed2b4f9668>"
      ]
     },
     "execution_count": 11,
     "metadata": {},
     "output_type": "execute_result"
    }
   ],
   "source": [
    "model.fit(X_train, y_train, epochs=30, batch_size=128, validation_split=0.2)"
   ]
  },
  {
   "cell_type": "markdown",
   "metadata": {},
   "source": [
    "# Find the model fitting history keywords"
   ]
  },
  {
   "cell_type": "code",
   "execution_count": null,
   "metadata": {},
   "outputs": [],
   "source": [
    "print(model.history.history.keys())"
   ]
  },
  {
   "cell_type": "markdown",
   "metadata": {},
   "source": [
    "# Plot the accuracy vs. epoch"
   ]
  },
  {
   "cell_type": "code",
   "execution_count": 66,
   "metadata": {},
   "outputs": [
    {
     "data": {
      "text/plain": [
       "<matplotlib.legend.Legend at 0x24991a86eb8>"
      ]
     },
     "execution_count": 66,
     "metadata": {},
     "output_type": "execute_result"
    },
    {
     "data": {
      "image/png": "[encoded data removed]",
      "text/plain": [
       "<matplotlib.figure.Figure at 0x24991a62f98>"
      ]
     },
     "metadata": {
      "needs_background": "light"
     },
     "output_type": "display_data"
    }
   ],
   "source": [
    "plt.plot(model.history.history['acc'])\n",
    "plt.plot(model.history.history['val_acc'])\n",
    "plt.title('model accuracy')\n",
    "plt.ylabel('accuracy')\n",
    "plt.xlabel('epoch')\n",
    "plt.legend(['train', 'test'], loc='upper left')"
   ]
  },
  {
   "cell_type": "markdown",
   "metadata": {},
   "source": [
    "# Evaluate the model accuracy"
   ]
  },
  {
   "cell_type": "code",
   "execution_count": 76,
   "metadata": {},
   "outputs": [
    {
     "data": {
      "text/plain": [
       "[0.08440149382256208, 0.9834]"
      ]
     },
     "execution_count": 76,
     "metadata": {},
     "output_type": "execute_result"
    }
   ],
   "source": [
    "model.evaluate(X_test, y_test, verbose=0)"
   ]
  },
  {
   "cell_type": "markdown",
   "metadata": {},
   "source": [
    "# Model prediction"
   ]
  },
  {
   "cell_type": "code",
   "execution_count": 78,
   "metadata": {},
   "outputs": [],
   "source": [
    "pred=model.predict_classes(X_test)"
   ]
  },
  {
   "cell_type": "code",
   "execution_count": 79,
   "metadata": {},
   "outputs": [
    {
     "name": "stdout",
     "output_type": "stream",
     "text": [
      "[2 1 0 4 1 4 9 5 9]\n"
     ]
    }
   ],
   "source": [
    "print(pred[1:10])"
   ]
  },
  {
   "cell_type": "code",
   "execution_count": null,
   "metadata": {},
   "outputs": [],
   "source": []
  },
  {
   "cell_type": "code",
   "execution_count": null,
   "metadata": {},
   "outputs": [],
   "source": []
  }
 ],
 "metadata": {
  "kernelspec": {
   "display_name": "Python 3",
   "language": "python",
   "name": "python3"
  },
  "language_info": {
   "codemirror_mode": {
    "name": "ipython",
    "version": 3
   },
   "file_extension": ".py",
   "mimetype": "text/x-python",
   "name": "python",
   "nbconvert_exporter": "python",
   "pygments_lexer": "ipython3",
   "version": "3.7.3"
  }
 },
 "nbformat": 4,
 "nbformat_minor": 2
}
