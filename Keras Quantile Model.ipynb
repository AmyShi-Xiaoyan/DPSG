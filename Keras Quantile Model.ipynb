{
 "cells": [
  {
   "cell_type": "markdown",
   "metadata": {},
   "source": [
    "# Deep Quantile Regression\n",
    "\n",
    "One area that Deep Learning has not explored extensively is the uncertainty in estimates. However, as far as decision making goes, most people actually require quantiles as opposed to true uncertainty in an estimate. eg. For a given age the weight of an individual will vary. What would be interesting is the (for arguments sake) the 10th and 90th percentile. The uncertainty of _the estimate_ of an individuals weight is less interesting."
   ]
  },
  {
   "cell_type": "code",
   "execution_count": 5,
   "metadata": {},
   "outputs": [
    {
     "data": {
      "text/plain": [
       "'C:\\\\Users\\\\amyshi\\\\Documents\\\\Python Scripts'"
      ]
     },
     "execution_count": 5,
     "metadata": {},
     "output_type": "execute_result"
    }
   ],
   "source": [
    "import os\n",
    "os.getcwd() "
   ]
  },
  {
   "cell_type": "code",
   "execution_count": 36,
   "metadata": {
    "scrolled": true
   },
   "outputs": [
    {
     "data": {
      "text/html": [
       "<div>\n",
       "<style scoped>\n",
       "    .dataframe tbody tr th:only-of-type {\n",
       "        vertical-align: middle;\n",
       "    }\n",
       "\n",
       "    .dataframe tbody tr th {\n",
       "        vertical-align: top;\n",
       "    }\n",
       "\n",
       "    .dataframe thead th {\n",
       "        text-align: right;\n",
       "    }\n",
       "</style>\n",
       "<table border=\"1\" class=\"dataframe\">\n",
       "  <thead>\n",
       "    <tr style=\"text-align: right;\">\n",
       "      <th></th>\n",
       "      <th>Unnamed: 0</th>\n",
       "      <th>times</th>\n",
       "      <th>accel</th>\n",
       "    </tr>\n",
       "  </thead>\n",
       "  <tbody>\n",
       "    <tr>\n",
       "      <th>2</th>\n",
       "      <td>3</td>\n",
       "      <td>3.2</td>\n",
       "      <td>-2.7</td>\n",
       "    </tr>\n",
       "    <tr>\n",
       "      <th>3</th>\n",
       "      <td>4</td>\n",
       "      <td>3.6</td>\n",
       "      <td>0.0</td>\n",
       "    </tr>\n",
       "    <tr>\n",
       "      <th>4</th>\n",
       "      <td>5</td>\n",
       "      <td>4.0</td>\n",
       "      <td>-2.7</td>\n",
       "    </tr>\n",
       "  </tbody>\n",
       "</table>\n",
       "</div>"
      ],
      "text/plain": [
       "   Unnamed: 0  times  accel\n",
       "2           3    3.2   -2.7\n",
       "3           4    3.6    0.0\n",
       "4           5    4.0   -2.7"
      ]
     },
     "execution_count": 36,
     "metadata": {},
     "output_type": "execute_result"
    }
   ],
   "source": [
    "import pandas as pd\n",
    "import numpy as np\n",
    "import matplotlib.pyplot as plt\n",
    "from keras.models import Sequential\n",
    "from keras.layers import Dense, Activation\n",
    "import keras.backend as K\n",
    "\n",
    "%matplotlib inline\n",
    "\n",
    "mcycle = pd.read_csv('mcycle.csv')\n",
    "mcycle[2:5]"
   ]
  },
  {
   "cell_type": "markdown",
   "metadata": {},
   "source": [
    "Standardise the inputs and outputs so that it is easier to train. I have't saved the mean and standard deviations, but you should."
   ]
  },
  {
   "cell_type": "code",
   "execution_count": 26,
   "metadata": {},
   "outputs": [],
   "source": [
    "mcycle.times = (mcycle.times - mcycle.times.mean())/mcycle.times.std()\n",
    "mcycle.accel = (mcycle.accel - mcycle.accel.mean())/mcycle.accel.std()"
   ]
  },
  {
   "cell_type": "code",
   "execution_count": 25,
   "metadata": {},
   "outputs": [
    {
     "name": "stdout",
     "output_type": "stream",
     "text": [
      "133/133 [==============================] - 0s 1ms/step\n"
     ]
    },
    {
     "data": {
      "text/plain": [
       "31.4633860695631"
      ]
     },
     "execution_count": 25,
     "metadata": {},
     "output_type": "execute_result"
    }
   ],
   "source": [
    "model = Sequential()\n",
    "model.add(Dense(units=10, input_dim=1,activation='relu'))\n",
    "model.add(Dense(units=10, input_dim=1,activation='relu'))\n",
    "model.add(Dense(1))\n",
    "model.compile(loss='mae', optimizer='adadelta')\n",
    "model.fit(mcycle.times.values, mcycle.accel.values, epochs=2000, batch_size=32, verbose=0)\n",
    "model.evaluate(mcycle.times.values, mcycle.accel.values)"
   ]
  },
  {
   "cell_type": "code",
   "execution_count": 38,
   "metadata": {},
   "outputs": [
    {
     "data": {
      "image/png": "[encoded data removed]",
      "text/plain": [
       "<Figure size 432x288 with 1 Axes>"
      ]
     },
     "metadata": {
      "needs_background": "light"
     },
     "output_type": "display_data"
    }
   ],
   "source": [
    "t_test = np.linspace(mcycle.times.min(),mcycle.times.max(),200)\n",
    "y_test = model.predict(t_test)\n",
    "\n",
    "plt.scatter(mcycle.times,mcycle.accel)\n",
    "plt.plot(t_test, y_test,'r')\n",
    "plt.show()"
   ]
  },
  {
   "cell_type": "code",
   "execution_count": 39,
   "metadata": {},
   "outputs": [
    {
     "data": {
      "text/plain": [
       "numpy.ndarray"
      ]
     },
     "execution_count": 39,
     "metadata": {},
     "output_type": "execute_result"
    }
   ],
   "source": [
    "type(y_test)"
   ]
  },
  {
   "cell_type": "markdown",
   "metadata": {},
   "source": [
    "## Quantiles 0.1, 0.5, 0.9\n",
    "\n",
    "The loss for an individual data point is defined as:\n",
    "$$\n",
    "\\begin{align}\n",
    "\\mathcal{L}(\\xi_i|\\alpha)=\\begin{cases}\n",
    "\\alpha \\xi_i &\\text{if }\\xi_i\\ge 0, \\\\\n",
    "(\\alpha-1) \\xi_i &\\text{if }\\xi_i< 0.\n",
    "\\end{cases}\n",
    "\\end{align}\n",
    "$$\n",
    "where $\\alpha$ is the required quantile and $\\xi_i = y_i - f(\\mathbf{x}_i)$ and, $f(\\mathbf{x}_i)$ is the predicted (quantile) model. The final overall loss is defines as:\n",
    "$$\\mathcal{L}(\\mathbf{y},\\mathbf{f}|\\alpha)=\\frac{1}{N} \\sum_{i=1}^N \\mathcal{L}(y_i-f(\\mathbf{x}_i)|\\alpha)$$\n",
    "\n",
    "The following function defines the loss function for a quantile model.\n",
    "\n",
    "**Note**: The following 4 lines is ALL that you change in comparison to a normal Deep Learning method, i.e. The loss function is all that changes."
   ]
  },
  {
   "cell_type": "code",
   "execution_count": 15,
   "metadata": {},
   "outputs": [],
   "source": [
    "def tilted_loss(q,y,f):\n",
    "    e = (y-f)\n",
    "    return K.mean(K.maximum(q*e, (q-1)*e), axis=-1)"
   ]
  },
  {
   "cell_type": "code",
   "execution_count": 16,
   "metadata": {},
   "outputs": [],
   "source": [
    "def mcycleModel():\n",
    "    model = Sequential()\n",
    "    model.add(Dense(units=10, input_dim=1,activation='relu'))\n",
    "    model.add(Dense(units=10, input_dim=1,activation='relu'))\n",
    "    model.add(Dense(1))\n",
    "    \n",
    "    return model"
   ]
  },
  {
   "cell_type": "code",
   "execution_count": 18,
   "metadata": {},
   "outputs": [
    {
     "data": {
      "image/png": "[encoded data removed]",
      "text/plain": [
       "<Figure size 432x288 with 1 Axes>"
      ]
     },
     "metadata": {
      "needs_background": "light"
     },
     "output_type": "display_data"
    }
   ],
   "source": [
    "qs = [0.1, 0.5, 0.9]\n",
    "\n",
    "t_test = np.linspace(mcycle.times.min(),mcycle.times.max(),200)\n",
    "plt.scatter(mcycle.times,mcycle.accel)\n",
    "\n",
    "for q in qs:\n",
    "    model = mcycleModel()\n",
    "    model.compile(loss=lambda y,f: tilted_loss(q,y,f), optimizer='adadelta')\n",
    "    model.fit(mcycle.times.values, mcycle.accel.values, epochs=2000, batch_size=32, verbose=0)\n",
    "    \n",
    "    # Predict the quantile\n",
    "    y_test = model.predict(t_test)\n",
    "    plt.plot(t_test, y_test, label=q) # plot out this quantile\n",
    "\n",
    "plt.legend()    \n",
    "plt.show()    "
   ]
  },
  {
   "cell_type": "code",
   "execution_count": 35,
   "metadata": {},
   "outputs": [
    {
     "name": "stdout",
     "output_type": "stream",
     "text": [
      "red blue\n"
     ]
    }
   ],
   "source": []
  },
  {
   "cell_type": "markdown",
   "metadata": {
    "collapsed": true
   },
   "source": [
    "## Final Notes\n",
    "\n",
    "1. Note that the quantile 0.5 is the same as median, which you can attain by minimising Mean Absolute Error, which you can attain in Keras regardless with `loss='mae'`. \n",
    "2. Uncertainty and quantiles are **not** the same thing. But most of the time you care about quantiles and not uncertainty.\n",
    "3. If you really do want uncertainty with deep nets checkout http://mlg.eng.cam.ac.uk/yarin/blog_3d801aa532c1ce.html"
   ]
  },
  {
   "cell_type": "code",
   "execution_count": null,
   "metadata": {},
   "outputs": [],
   "source": []
  }
 ],
 "metadata": {
  "anaconda-cloud": {},
  "kernelspec": {
   "display_name": "Python 3",
   "language": "python",
   "name": "python3"
  },
  "language_info": {
   "codemirror_mode": {
    "name": "ipython",
    "version": 3
   },
   "file_extension": ".py",
   "mimetype": "text/x-python",
   "name": "python",
   "nbconvert_exporter": "python",
   "pygments_lexer": "ipython3",
   "version": "3.7.3"
  },
  "latex_envs": {
   "bibliofile": "biblio.bib",
   "cite_by": "apalike",
   "current_citInitial": 1,
   "eqLabelWithNumbers": true,
   "eqNumInitial": 0
  }
 },
 "nbformat": 4,
 "nbformat_minor": 2
}
